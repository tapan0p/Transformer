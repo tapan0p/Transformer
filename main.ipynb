{
 "cells": [
  {
   "cell_type": "code",
   "execution_count": 1,
   "metadata": {},
   "outputs": [],
   "source": [
    "import torch \n",
    "import torch.nn as nn \n",
    "import math \n",
    "from torch.utils.data import Dataset,DataLoader \n",
    "import torch.optim as optim \n",
    "import copy\n"
   ]
  },
  {
   "cell_type": "markdown",
   "metadata": {},
   "source": [
    "### Positional encoding"
   ]
  },
  {
   "cell_type": "code",
   "execution_count": 2,
   "metadata": {},
   "outputs": [],
   "source": [
    "class PositionalEncoding(nn.Module):\n",
    "    def __init__(self,d_model:int,seq_len:int)->None:\n",
    "        super().__init__()\n",
    "        self.d_model=d_model\n",
    "        self.seq_len=seq_len\n",
    "\n",
    "        # Create a matrix of size (seq_len,d_model)\n",
    "        pe = torch.zeros(seq_len,d_model)\n",
    "        position = torch.arange(0,seq_len,dtype=float).unsqueeze(1)\n",
    "        div_term = torch.exp(torch.arange(0,d_model,2).float()*(-math.log(10000.0)/d_model))\n",
    "        \n",
    "        pe[:,0::2] = torch.sin(position*div_term)\n",
    "        pe[:,1::2] = torch.cos(position*div_term)\n",
    "        \n",
    "        self.register_buffer(\"pe\",pe.unsqueeze(0))\n",
    "\n",
    "    def forward(self,x):\n",
    "        return x+self.pe[:,:x.size(1)]\n"
   ]
  },
  {
   "cell_type": "markdown",
   "metadata": {},
   "source": [
    "### Feedforward neural network"
   ]
  },
  {
   "cell_type": "code",
   "execution_count": 3,
   "metadata": {},
   "outputs": [],
   "source": [
    "class FeedForwardNN(nn.Module):\n",
    "    def __init__(self,d_model:int,ff_dim:int)->None:\n",
    "        super().__init__()\n",
    "        self.d_model = d_model \n",
    "        self.ff_dim = ff_dim \n",
    "        self.linear_1 = nn.Linear(d_model,ff_dim)\n",
    "        self.relu = nn.ReLU()\n",
    "        self.linear_2 = nn.Linear(ff_dim,d_model)\n",
    "\n",
    "    def forward(self,x):\n",
    "        x = self.linear_1(x)\n",
    "        x = self.relu(x)\n",
    "        x = self.linear_2(x)\n"
   ]
  },
  {
   "cell_type": "markdown",
   "metadata": {},
   "source": [
    "### Multihead attention"
   ]
  },
  {
   "cell_type": "code",
   "execution_count": 4,
   "metadata": {},
   "outputs": [],
   "source": [
    "class MultiheadAttention(nn.Module):\n",
    "    def __init__(self,d_model:int,num_heads:int)->None:\n",
    "        super().__init__()\n",
    "\n",
    "        assert d_model%num_heads==0 , \"model dimention must be divisible by number of heads.\"\n",
    "        self.d_model=d_model\n",
    "        self.num_heads=num_heads\n",
    "        self.d_k = d_model//num_heads\n",
    "\n",
    "        self.w_Q = nn.Linear(d_model,d_model)\n",
    "        self.w_K = nn.Linear(d_model,d_model)\n",
    "        self.w_V = nn.Linear(d_model,d_model)\n",
    "        self.w_W = nn.Linear(d_model,d_model)\n",
    "\n",
    "    def split_heads(self,X):\n",
    "        batch_size,seq_len,d_model = X.size()\n",
    "        X = X.view(batch_size,seq_len,self.num_heads,self.d_k).transpose(1,2)\n",
    "        return X\n",
    "\n",
    "    def scaled_dot_product_attention(self,Q,K,V,mask=None):\n",
    "        # softmax(Q.KT+opt(mask))/sert(d)*V\n",
    "\n",
    "        score = torch.matmul(Q,K.transpose(-2,-1))/math.sqrt(self.d_k)\n",
    "        if mask is not None:\n",
    "            score = score.masked_fill(mask==0,-1e9)\n",
    "        \n",
    "        atten_prob = torch.softmax(score,dim=-1)\n",
    "        return torch.matmul(atten_prob,V)\n",
    "\n",
    "    def concatinate_heads(self,X):\n",
    "        batch_size,_,seq_len,_ = X.size()\n",
    "        X = X.transpose(1,2).contiguous().view(batch_size,seq_len,self.d_model)\n",
    "        return X\n",
    "\n",
    "\n",
    "    def forward(self,Q,K,V,mask=None):\n",
    "\n",
    "        Q = self.split_heads(self.w_Q(Q)) # (batch_size,num_heads,seq_len,w_k)\n",
    "        K = self.split_heads(self.w_K(K))\n",
    "        V = self.split_heads(self.w_V(V))\n",
    "\n",
    "        attention = self.scaled_dot_product_attention(Q,K,V,mask)\n",
    "\n",
    "        return self.w_W(self.concatinate_heads(attention))\n"
   ]
  },
  {
   "cell_type": "markdown",
   "metadata": {},
   "source": [
    "### Encoder Layer"
   ]
  },
  {
   "cell_type": "code",
   "execution_count": 5,
   "metadata": {},
   "outputs": [],
   "source": [
    "class EncoderLayer(nn.Module):\n",
    "    def __init__(self,d_model:int,num_heads:int,ff_dim:int,dropout:float)->None:\n",
    "        super().__init__()\n",
    "       \n",
    "        self.self_attention = MultiheadAttention(d_model,num_heads)\n",
    "        self.feed_forward = FeedForwardNN(d_model,ff_dim)\n",
    "        self.layer_norm_1 = nn.LayerNorm(d_model)\n",
    "        self.layer_norm_2 = nn.LayerNorm(d_model)\n",
    "        self.dropout = nn.Dropout(dropout)\n",
    "\n",
    "    def forward(self,X,mask):\n",
    "        attention = self.self_attention(X,X,X,mask)\n",
    "        X = self.layer_norm_1(X+self.dropout(attention))\n",
    "        ff_out = self.feed_forward(X)\n",
    "        X = self.layer_norm_2(X+self.dropout(ff_out))\n",
    "        return X\n",
    "\n"
   ]
  },
  {
   "cell_type": "markdown",
   "metadata": {},
   "source": [
    "### Decoder Layer"
   ]
  },
  {
   "cell_type": "code",
   "execution_count": null,
   "metadata": {},
   "outputs": [],
   "source": [
    "class DecoderLayer(nn.Module):\n",
    "    def __init__(self,d_model:int,num_heads:int,ff_dim:int,dropout:float)->None:\n",
    "        super().__init__()\n",
    "        self.self_attention = MultiheadAttention(d_model,num_heads)\n",
    "        self.cross_attention = MultiheadAttention(d_model,num_heads)\n",
    "        self.ff_nn = FeedForwardNN(d_model,ff_dim)\n",
    "        self.norm1 = nn.LayerNorm(d_model)\n",
    "        self.norm2 = nn.LayerNorm(d_model)\n",
    "        self.norm3 = nn.LayerNorm(d_model)\n",
    "        self.dropout = nn.Dropout(dropout)\n",
    "\n",
    "    def forward(self,x,enc_out,src_mask,trg_mask):\n",
    "        atten_out = self.self_attention(x,x,x,trg_mask)\n",
    "        x = self.norm1(x+self.dropout(atten_out))\n",
    "        atten_out = self.cross_attention(x,enc_out,enc_out,src_mask)\n",
    "        x = self.norm2(x+self.dropout(atten_out))\n",
    "        ff_out = self.ff_nn(x)\n",
    "        x = self.norm3(x+self.dropout(ff_out))\n",
    "        return x"
   ]
  },
  {
   "cell_type": "markdown",
   "metadata": {},
   "source": [
    "### Transformer (Encoder + Decoder)"
   ]
  },
  {
   "cell_type": "code",
   "execution_count": 6,
   "metadata": {},
   "outputs": [],
   "source": [
    "class Transformer(nn.Module):\n",
    "    def __init__(self,d_model:int,seq_len:int,num_layers:int,num_heads:int,ff_dim:int,dropout:float,source_vocab_size:int,target_vocab_size:int):\n",
    "        super().__init__()\n",
    "        self.encoder_embedding = nn.Embedding(source_vocab_size,d_model)\n",
    "        self.decoder_embedding = nn.Embedding(target_vocab_size,d_model)\n",
    "        self.positional_encoding = PositionalEncoding(d_model,seq_len)\n",
    "        self.dropout = nn.Dropout(dropout)\n",
    "\n",
    "        self.encoder_layers = nn.ModuleList([EncoderLayer(d_model,num_heads,ff_dim,dropout) for _ in range(num_layers)])\n",
    "        self.decoder_layers = nn.ModuleList([DecoderLayer(d_model,num_heads,ff_dim,dropout) for _ in range(num_layers)])\n",
    "\n",
    "        self.fc_layer = nn.Linear(d_model,target_vocab_size)\n",
    "\n",
    "    def generate_mask(self, src, tgt):\n",
    "            src_mask = (src != 0).unsqueeze(1).unsqueeze(2)\n",
    "            tgt_mask = (tgt != 0).unsqueeze(1).unsqueeze(3)\n",
    "            seq_length = tgt.size(1)\n",
    "            nopeak_mask = (1 - torch.triu(torch.ones(1, seq_length, seq_length), diagonal=1)).bool()\n",
    "            tgt_mask = tgt_mask & nopeak_mask\n",
    "            return src_mask, tgt_mask\n",
    "            \n",
    "\n",
    "    def forward(self,src,tgt):\n",
    "            src_mask,tgt_mask = self.generate_mask(src,tgt)\n",
    "\n",
    "            src_embedding = self.encoder_embedding(src)\n",
    "            tgt_embedding = self.decoder_embedding(tgt)\n",
    "\n",
    "            src_embedding = self.dropout(self.positional_encoding(src_embedding))\n",
    "            tgt_embedding = self.dropout(self.positional_encoding(tgt_embedding))\n",
    "\n",
    "            src_out = src_embedding\n",
    "\n",
    "            for encoder_layer in self.encoder_layers:\n",
    "                src_out = encoder_layer(src_out,src_mask)\n",
    "\n",
    "            tgt_out = tgt_embedding\n",
    "            for decoder_layer in self.decoder_layers:\n",
    "                tgt_out = decoder_layer(tgt_out,tgt_mask)\n",
    "\n",
    "            output = self.fc_layer(tgt_out)\n",
    "            return output\n",
    "\n",
    "            \n"
   ]
  }
 ],
 "metadata": {
  "kernelspec": {
   "display_name": "Python 3",
   "language": "python",
   "name": "python3"
  },
  "language_info": {
   "codemirror_mode": {
    "name": "ipython",
    "version": 3
   },
   "file_extension": ".py",
   "mimetype": "text/x-python",
   "name": "python",
   "nbconvert_exporter": "python",
   "pygments_lexer": "ipython3",
   "version": "3.11.7"
  }
 },
 "nbformat": 4,
 "nbformat_minor": 2
}
